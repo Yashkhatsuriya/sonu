{
 "cells": [
  {
   "cell_type": "code",
   "execution_count": 1,
   "metadata": {},
   "outputs": [],
   "source": [
    "import numpy as np\n",
    "import pandas as pd\n",
    "import matplotlib.pyplot as plt\n",
    "from sklearn import preprocessing\n",
    "from sklearn.naive_bayes import GaussianNB"
   ]
  },
  {
   "cell_type": "code",
   "execution_count": 2,
   "metadata": {},
   "outputs": [],
   "source": [
    "color=['Red','Red','Red','Yellow','Yellow','Yellow','Yellow','Yellow','Red','Red']\n",
    "\n",
    "type=['Sports','Sports','Sports','Sports','Sports','SUV','SUV','SUV','SUV','Sports']\n",
    "\n",
    "origin=['Domestic','Domestic','Domestic','Domestic','Imported','Imported','Imported','Domestic','Imported','Imported']\n",
    "\n",
    "stolen=['Yes','No','Yes','No','Yes','No','Yes','No','No','Yes']\n"
   ]
  },
  {
   "cell_type": "code",
   "execution_count": 18,
   "metadata": {},
   "outputs": [
    {
     "name": "stdout",
     "output_type": "stream",
     "text": [
      "['Red' 'Yellow']\n",
      "Color =  [0 0 0 1 1 1 1 1 0 0]\n",
      "['SUV' 'Sports']\n",
      "Type =  [1 1 1 1 1 0 0 0 0 1]\n",
      "['Domestic' 'Imported']\n",
      "Origin =  [0 0 0 0 1 1 1 0 1 1]\n",
      "['No' 'Yes']\n",
      "Stolen =  [1 0 1 0 1 0 1 0 0 1]\n"
     ]
    }
   ],
   "source": [
    "le = preprocessing.LabelEncoder()\n",
    "\n",
    "color_encoded = le.fit_transform(color)\n",
    "print(le.classes_)\n",
    "print(\"Color = \",color_encoded)\n",
    "\n",
    "type_encoded = le.fit_transform(type)\n",
    "print(le.classes_)\n",
    "print(\"Type = \",type_encoded)\n",
    "\n",
    "origin_encoded = le.fit_transform(origin)\n",
    "print(le.classes_)\n",
    "print(\"Origin = \",origin_encoded)\n",
    "\n",
    "label = le.fit_transform(stolen)\n",
    "print(le.classes_)\n",
    "print(\"Stolen = \",label)\n"
   ]
  },
  {
   "cell_type": "code",
   "execution_count": 4,
   "metadata": {},
   "outputs": [
    {
     "name": "stdout",
     "output_type": "stream",
     "text": [
      "[(0, 1, 0), (0, 1, 0), (0, 1, 0), (1, 1, 0), (1, 1, 1), (1, 0, 1), (1, 0, 1), (1, 0, 0), (0, 0, 1), (0, 1, 1)]\n"
     ]
    }
   ],
   "source": [
    "features = list(zip(color_encoded,type_encoded,origin_encoded))\n",
    "print(features)"
   ]
  },
  {
   "cell_type": "code",
   "execution_count": 19,
   "metadata": {},
   "outputs": [
    {
     "name": "stdout",
     "output_type": "stream",
     "text": [
      "Predicted Value :  [0]\n"
     ]
    }
   ],
   "source": [
    "model = GaussianNB()\n",
    "\n",
    "model.fit(features,label)\n",
    "\n",
    "predicted = model.predict([[0,0,0]])\n",
    "print(\"Predicted Value : \", predicted);"
   ]
  },
  {
   "cell_type": "code",
   "execution_count": 20,
   "metadata": {},
   "outputs": [
    {
     "name": "stdout",
     "output_type": "stream",
     "text": [
      "Car Will Not Be Stolen\n"
     ]
    }
   ],
   "source": [
    "if(predicted==[0]):\n",
    "    print(\"Car Will Not Be Stolen\")\n",
    "else:\n",
    "    print(\"Car Will Be Stolen\")"
   ]
  },
  {
   "cell_type": "code",
   "execution_count": null,
   "metadata": {},
   "outputs": [],
   "source": []
  }
 ],
 "metadata": {
  "kernelspec": {
   "display_name": "Python 3",
   "language": "python",
   "name": "python3"
  },
  "language_info": {
   "codemirror_mode": {
    "name": "ipython",
    "version": 3
   },
   "file_extension": ".py",
   "mimetype": "text/x-python",
   "name": "python",
   "nbconvert_exporter": "python",
   "pygments_lexer": "ipython3",
   "version": "3.7.1"
  }
 },
 "nbformat": 4,
 "nbformat_minor": 2
}
